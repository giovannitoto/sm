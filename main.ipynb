{
 "cells": [
  {
   "cell_type": "markdown",
   "metadata": {},
   "source": [
    "## Link utili:\n",
    "\n",
    "- Homepage `twint`: https://github.com/twintproject/twint\n",
    "\n",
    "- Installazione della versione corretta della libreria `tornado`: https://stackoverflow.com/questions/53248431/asyncio-runtimeerror-this-event-loop-is-already-running\n",
    "\n",
    "- Campi di ricerca: https://github.com/twintproject/twint/wiki/Configuration\n",
    "\n",
    "- Formattazione: https://github.com/twintproject/twint/wiki/Tweet-attributes\n",
    "\n",
    "- `twint` e `Pandas`: https://github.com/twintproject/twint/wiki/Pandas-integration\n",
    "\n",
    "- Indexing and selecting data in `Pandas`: https://pandas.pydata.org/pandas-docs/stable/user_guide/indexing.html"
   ]
  },
  {
   "cell_type": "code",
   "execution_count": 1,
   "metadata": {},
   "outputs": [],
   "source": [
    "import twint\n",
    "import pandas as pd"
   ]
  },
  {
   "cell_type": "markdown",
   "metadata": {},
   "source": [
    "Lista delle persone escluse:\n",
    "- [M5S] Beppe Grillo"
   ]
  },
  {
   "cell_type": "code",
   "execution_count": 2,
   "metadata": {},
   "outputs": [
    {
     "data": {
      "text/plain": [
       "['Mov5Stelle',\n",
       " 'luigidimaio',\n",
       " 'SPatuanelli',\n",
       " 'Roberto_Fico',\n",
       " 'LauraBottici',\n",
       " 'vitocrimi',\n",
       " 'LegaSalvini',\n",
       " 'matteosalvinimi',\n",
       " 'MolinariRik',\n",
       " 'FabriCecchetti',\n",
       " 'Fontana3Lorenzo',\n",
       " 'erikastefani71',\n",
       " 'massimogara',\n",
       " 'pdnetwork',\n",
       " 'EnricoLetta',\n",
       " 'itinagli',\n",
       " 'VeriniWalter',\n",
       " 'peppeprovenzano',\n",
       " 'F_Boccia',\n",
       " 'lauraboldrini',\n",
       " 'boldrini_paola',\n",
       " 'PaoloGentiloni',\n",
       " 'robersperanza',\n",
       " 'dariofrance',\n",
       " 'forza_italia',\n",
       " 'berlusconi',\n",
       " 'Antonio_Tajani',\n",
       " 'msgelmini',\n",
       " 'mara_carfagna',\n",
       " 'renatobrunetta',\n",
       " 'gasparripdl',\n",
       " 'BerniniAM',\n",
       " 'FratellidItalia',\n",
       " 'GiorgiaMeloni',\n",
       " 'Ignazio_LaRussa',\n",
       " 'GuidoCrosetto',\n",
       " 'DSantanche',\n",
       " 'RaffaeleFitto',\n",
       " 'ItaliaViva',\n",
       " 'matteorenzi',\n",
       " 'meb',\n",
       " 'Ettore Rosato',\n",
       " 'TeresaBellanova',\n",
       " 'elenabonetti',\n",
       " 'davidefaraone']"
      ]
     },
     "execution_count": 2,
     "metadata": {},
     "output_type": "execute_result"
    }
   ],
   "source": [
    "# Persone d'interesse\n",
    "MVP = {\"GiuseppeConteIT\": \"Giuseppe Conte\"}\n",
    "\n",
    "# Movimento 5 Stelle\n",
    "M5S = {\"Mov5Stelle\": \"MoVimento 5 Stelle\",\n",
    "       \"luigidimaio\": \"Luigi di Maio\",\n",
    "       \"SPatuanelli\": \"Stefano Patuanelli\",\n",
    "       \"Roberto_Fico\": \"Roberto Fico\",\n",
    "       \"LauraBottici\": \"Laura Bottici\",\n",
    "       \"vitocrimi\": \"Vito Crimi\"}\n",
    "# Lega - Salvini Premier\n",
    "LSP = {\"LegaSalvini\": \"Lega - Salvini Premier\",\n",
    "       \"matteosalvinimi\": \"Matteo Salvini\",\n",
    "       \"MolinariRik\": \"Riccardo Molinari\",\n",
    "       \"FabriCecchetti\": \"Fabrizio Cecchetti\",\n",
    "       \"Fontana3Lorenzo\": \"Lorenzo Fontana\",\n",
    "       \"erikastefani71\": \"Erika Stefani\",\n",
    "       \"massimogara\": \"Massimo Garavaglia\"\n",
    "      }\n",
    "# Partito Democratico\n",
    "PD = {\"pdnetwork\": \"Partito Democratico\",\n",
    "      \"EnricoLetta\": \"Enrico Letta\",\n",
    "      \"itinagli\": \"Irene Tinagli\",\n",
    "      \"VeriniWalter\": \"Walter Verini\",\n",
    "      \"peppeprovenzano\": \"Giuseppe Provenzano\",\n",
    "      \"F_Boccia\": \"Francesco Boccia\",\n",
    "      \"lauraboldrini\": \"Laura Boldrini\",\n",
    "      \"boldrini_paola\": \"Paola Boldrini\",\n",
    "      \"PaoloGentiloni\": \"Paolo Gentiloni\",\n",
    "      \"robersperanza\": \"Roberto Speranza\",\n",
    "      \"dariofrance\": \"Dario Franceschini\"}\n",
    "# Forza Italia\n",
    "FI = {\"forza_italia\": \"Forza Italia\",\n",
    "      \"berlusconi\": \"Silvio Berlusconi\",\n",
    "      \"Antonio_Tajani\": \"Antonio Tajani\",\n",
    "      \"msgelmini\": \"Mariastella Gelmini\",\n",
    "      \"mara_carfagna\": \"Mara Carfagna\",\n",
    "      \"renatobrunetta\": \"Renato Brunetta\",\n",
    "      \"gasparripdl\": \"Maurizio Gasparri\",\n",
    "      \"BerniniAM\": \"Anna Maria Bernini\"}\n",
    "# Fratelli d'Italia\n",
    "FdI = {\"FratellidItalia\": \"Fratelli d'Italia\",\n",
    "       \"GiorgiaMeloni\": \"Giorgia Meloni\",\n",
    "       \"Ignazio_LaRussa\": \"Ignazio La Russa\",\n",
    "       \"GuidoCrosetto\": \"Guido Crosetto\",\n",
    "       \"DSantanche\": \"Daniela Santanchè\",\n",
    "       \"RaffaeleFitto\": \"Raffaele Fitto\"}\n",
    "# Italia Viva\n",
    "IV = {\"ItaliaViva\": \"Italia Viva\",\n",
    "      \"matteorenzi\": \"Matteo Renzi\",\n",
    "      \"meb\": \"Maria Elena Boschi\",\n",
    "      \"Ettore Rosato\": \"Ettore Rosato\",\n",
    "      \"TeresaBellanova\": \"Teresa Bellanova\",\n",
    "      \"elenabonetti\": \"Elena Bonetti\",\n",
    "      \"davidefaraone\": \"Davide Faraone\"}\n",
    "\n",
    "username_list = list(M5S.keys()) + list(LSP.keys()) + list(PD.keys()) + list(FI.keys()) + list(FdI.keys()) + list(IV.keys())\n",
    "username_list"
   ]
  },
  {
   "cell_type": "code",
   "execution_count": null,
   "metadata": {},
   "outputs": [],
   "source": [
    "tweets_df_list = {}\n",
    "\n",
    "for user_name in username_list:\n",
    "    c = twint.Config()\n",
    "\n",
    "    c.Username = user_name\n",
    "    c.User_full = True\n",
    "    c.Since = \"2020-02-01\"\n",
    "    c.Until = \"2021-04-29\"\n",
    "    \n",
    "    c.Lowercase = True # rende tutto minuscolo\n",
    "    \n",
    "    c.Count = True  # stampo a video il numero di tweet trovati\n",
    "    c.Pandas = True\n",
    "    c.Hide_output = True \n",
    "\n",
    "    twint.run.Search(c)\n",
    "    \n",
    "    tweets_df_list[user_name] = twint.storage.panda.Tweets_df\n",
    "    "
   ]
  },
  {
   "cell_type": "code",
   "execution_count": null,
   "metadata": {},
   "outputs": [],
   "source": [
    "for user_name in tweets_df_list:\n",
    "    print(user_name.ljust(16), str(tweets_df_list[user_name].shape).rjust(13))\n",
    "print(\"-\"*30)\n",
    "\n",
    "# creo un unico dataframe\n",
    "tweets = pd.concat(tweets_df_list.values())\n",
    "print(\"\".ljust(16), str(tweets.shape).rjust(13))"
   ]
  },
  {
   "cell_type": "code",
   "execution_count": null,
   "metadata": {
    "scrolled": true
   },
   "outputs": [],
   "source": [
    "tweets"
   ]
  },
  {
   "cell_type": "code",
   "execution_count": null,
   "metadata": {},
   "outputs": [],
   "source": []
  }
 ],
 "metadata": {
  "kernelspec": {
   "display_name": "twitter",
   "language": "python",
   "name": "twitter"
  },
  "language_info": {
   "codemirror_mode": {
    "name": "ipython",
    "version": 3
   },
   "file_extension": ".py",
   "mimetype": "text/x-python",
   "name": "python",
   "nbconvert_exporter": "python",
   "pygments_lexer": "ipython3",
   "version": "3.6.13"
  }
 },
 "nbformat": 4,
 "nbformat_minor": 4
}
